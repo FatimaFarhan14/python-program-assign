{
 "cells": [
  {
   "cell_type": "markdown",
   "id": "299fb1bb",
   "metadata": {},
   "source": [
    "# ASSIGNMENT NO.4"
   ]
  },
  {
   "cell_type": "code",
   "execution_count": 3,
   "id": "b11ad603",
   "metadata": {},
   "outputs": [
    {
     "name": "stdout",
     "output_type": "stream",
     "text": [
      "9\n",
      "-1\n",
      "20\n",
      "0.8\n",
      "1024\n"
     ]
    }
   ],
   "source": [
    "# 1. make a calculator using python with addition, subtraction, multiplication, division and power.\n",
    "\n",
    "def sum(a, b):\n",
    "    total = a+b\n",
    "    subtraction = a-b\n",
    "    multiplication = a*b\n",
    "    divide = a/b\n",
    "    power = a**b\n",
    "    print(total)\n",
    "    print(subtraction)\n",
    "    print(multiplication)\n",
    "    print(divide)\n",
    "    print(power)\n",
    "sum( 4, 5)\n"
   ]
  },
  {
   "cell_type": "code",
   "execution_count": 2,
   "id": "b5812086",
   "metadata": {},
   "outputs": [
    {
     "name": "stdout",
     "output_type": "stream",
     "text": [
      "there is numeric value\n"
     ]
    }
   ],
   "source": [
    "# 2. write a program to check if there is any numeric value in the list using for loop.\n",
    "\n",
    "value_to_check = 4\n",
    "list1 = [\"Hasan\", \"r\", \"cat\", 4]\n",
    "numeric_value = []\n",
    "for numeric_value in list1:\n",
    "    if value_to_check == numeric_value:\n",
    "        print(\"there is numeric value\");\n"
   ]
  },
  {
   "cell_type": "code",
   "execution_count": 1,
   "id": "7197da90",
   "metadata": {},
   "outputs": [
    {
     "name": "stdout",
     "output_type": "stream",
     "text": [
      "90\n"
     ]
    }
   ],
   "source": [
    "# 3. write a python program to sum all the numeric value in dictionary.\n",
    "\n",
    "sum1 = {\n",
    "    'a':23,\n",
    "    'b':12,\n",
    "    'c':55\n",
    "}\n",
    "\n",
    "values=sum1.values()\n",
    "print(sum(values))"
   ]
  },
  {
   "cell_type": "code",
   "execution_count": 4,
   "id": "a5485762",
   "metadata": {},
   "outputs": [
    {
     "name": "stdout",
     "output_type": "stream",
     "text": [
      "('Hasan', '12345678')\n",
      "('Anas', '910111213')\n",
      "('farhan', '34567890')\n"
     ]
    }
   ],
   "source": [
    "# 4. write a python script to add a key to a dictionary.\n",
    "contacts = {'Hasan': \"12345678\", 'Anas': \"910111213\"}\n",
    "\n",
    "contacts['farhan'] = \"34567890\"\n",
    "\n",
    "for key in contacts.items():\n",
    "    print(key)\n"
   ]
  },
  {
   "cell_type": "code",
   "execution_count": 5,
   "id": "809952fc",
   "metadata": {},
   "outputs": [
    {
     "name": "stdout",
     "output_type": "stream",
     "text": [
      "hasan\n"
     ]
    }
   ],
   "source": [
    "# 5. write a program to identify duplicate values from list.\n",
    "\n",
    "a = [\"hasan\", \"anas\", \"farhan\", \"fatima\", \"hasan\"]\n",
    "b = []\n",
    "\n",
    "for i in a:\n",
    "    if i not in b:\n",
    "        b.append(i)\n",
    "    else:\n",
    "        print(i)\n"
   ]
  },
  {
   "cell_type": "code",
   "execution_count": 6,
   "id": "5d29a185",
   "metadata": {},
   "outputs": [
    {
     "name": "stdout",
     "output_type": "stream",
     "text": [
      "exist\n"
     ]
    }
   ],
   "source": [
    "# 6. write a python script to check if a given key is already exist in a dictionary.\n",
    "\n",
    "c = {\n",
    "    'pen':34,\n",
    "    'pencils':12,\n",
    "    'colours':20,\n",
    "    'bags':9\n",
    "}\n",
    "value = 34\n",
    "\n",
    "if value in c.values():\n",
    "    print(\"exist\")\n",
    "else:\n",
    "    print(\"not exist\")"
   ]
  },
  {
   "cell_type": "code",
   "execution_count": null,
   "id": "43925909",
   "metadata": {},
   "outputs": [],
   "source": []
  }
 ],
 "metadata": {
  "kernelspec": {
   "display_name": "Python 3",
   "language": "python",
   "name": "python3"
  },
  "language_info": {
   "codemirror_mode": {
    "name": "ipython",
    "version": 3
   },
   "file_extension": ".py",
   "mimetype": "text/x-python",
   "name": "python",
   "nbconvert_exporter": "python",
   "pygments_lexer": "ipython3",
   "version": "3.8.8"
  }
 },
 "nbformat": 4,
 "nbformat_minor": 5
}
