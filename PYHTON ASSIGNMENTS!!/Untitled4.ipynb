{
 "cells": [
  {
   "cell_type": "markdown",
   "id": "60f618bc",
   "metadata": {},
   "source": [
    "# ASSIGNMENT 2"
   ]
  },
  {
   "cell_type": "code",
   "execution_count": null,
   "id": "44f8159c",
   "metadata": {},
   "outputs": [],
   "source": [
    "# MARKSHEET"
   ]
  },
  {
   "cell_type": "code",
   "execution_count": 12,
   "id": "6342aa5a",
   "metadata": {},
   "outputs": [
    {
     "name": "stdout",
     "output_type": "stream",
     "text": [
      "262\n"
     ]
    }
   ],
   "source": [
    "Maths = 97;\n",
    "English = 85;\n",
    "Islamiat = 80;\n",
    "TotalMarks = Maths + English + Islamiat;\n",
    "print(TotalMarks)"
   ]
  },
  {
   "cell_type": "code",
   "execution_count": 14,
   "id": "76d72fa7",
   "metadata": {},
   "outputs": [
    {
     "name": "stdout",
     "output_type": "stream",
     "text": [
      "87.33333333333333\n"
     ]
    }
   ],
   "source": [
    "total_marks = 300;\n",
    "marks_obtained = 262;\n",
    "percentage = 262/300*100;\n",
    "print(percentage);"
   ]
  },
  {
   "cell_type": "code",
   "execution_count": 25,
   "id": "7beee129",
   "metadata": {
    "scrolled": true
   },
   "outputs": [
    {
     "name": "stdout",
     "output_type": "stream",
     "text": [
      "GradeA+\n"
     ]
    }
   ],
   "source": [
    "percent = 87.33333333333333;\n",
    "if percent < 100 and percent > 80:\n",
    "    print(\"GradeA+\");\n",
    "elif percent < 80 and percent > 70:\n",
    "        print(\"GradeA\");\n",
    "elif percent < 70 and percent > 60:\n",
    "        print(\"GradeB\");\n",
    "else:\n",
    "        print(\"Fail\");"
   ]
  },
  {
   "cell_type": "code",
   "execution_count": null,
   "id": "e995a79b",
   "metadata": {},
   "outputs": [],
   "source": []
  }
 ],
 "metadata": {
  "kernelspec": {
   "display_name": "Python 3",
   "language": "python",
   "name": "python3"
  },
  "language_info": {
   "codemirror_mode": {
    "name": "ipython",
    "version": 3
   },
   "file_extension": ".py",
   "mimetype": "text/x-python",
   "name": "python",
   "nbconvert_exporter": "python",
   "pygments_lexer": "ipython3",
   "version": "3.8.8"
  }
 },
 "nbformat": 4,
 "nbformat_minor": 5
}
