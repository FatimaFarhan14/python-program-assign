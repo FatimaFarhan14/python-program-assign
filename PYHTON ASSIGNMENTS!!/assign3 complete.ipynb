{
 "cells": [
  {
   "cell_type": "markdown",
   "id": "a84dd7d1",
   "metadata": {},
   "source": [
    "# ASSIGNMENT NO.3"
   ]
  },
  {
   "cell_type": "code",
   "execution_count": 10,
   "id": "42b42f5c",
   "metadata": {
    "scrolled": true
   },
   "outputs": [
    {
     "name": "stdout",
     "output_type": "stream",
     "text": [
      "Twinkle twinkle little star, \n",
      "         How i wonder what you are!\n",
      "                Up above the world so high! \n",
      "                like a diamond on the sky,\" \n",
      "            \n",
      "        twinkle twinkle little star, \n",
      " how i wonder what you are\n"
     ]
    }
   ],
   "source": [
    "# 1. WRITE A PYTHONPROGRAM TO PRINT THE FOLLOWING STRING INA SPECIFIC FORMAT (SEE THE OUTPUT).\"\"\"learning poem\n",
    "\n",
    "\n",
    "\n",
    "print(\"\"\"Twinkle twinkle little star, \n",
    "         How i wonder what you are!\n",
    "                Up above the world so high! \n",
    "                like a diamond on the sky,\" \n",
    "            \n",
    "        twinkle twinkle little star, \n",
    " how i wonder what you are\"\"\");\n",
    "\n",
    "\n"
   ]
  },
  {
   "cell_type": "code",
   "execution_count": 38,
   "id": "ba8baf6f",
   "metadata": {},
   "outputs": [
    {
     "name": "stdout",
     "output_type": "stream",
     "text": [
      "Python Version 3.8.8 (default, Apr 13 2021, 15:08:03) [MSC v.1916 64 bit (AMD64)]\n"
     ]
    }
   ],
   "source": [
    "# 2.WRITE A PYTHON PROGRAM TO GET THE PYTHON VERSION YOU ARE USING\n",
    "\n",
    "import sys\n",
    "print(\"Python Version\",sys.version)"
   ]
  },
  {
   "cell_type": "code",
   "execution_count": 37,
   "id": "8a9c86b9",
   "metadata": {},
   "outputs": [
    {
     "name": "stdout",
     "output_type": "stream",
     "text": [
      "2021-12-04 07:58:29.215768\n"
     ]
    }
   ],
   "source": [
    "# 3.WRITE A PYTHON PROGRAM TO DISPLAY THE CURRENT DATE AND TIME\n",
    "\n",
    "import datetime\n",
    "\n",
    "i = datetime.datetime.now()\n",
    "print(i)"
   ]
  },
  {
   "cell_type": "code",
   "execution_count": 1,
   "id": "2f7dafbf",
   "metadata": {},
   "outputs": [
    {
     "name": "stdout",
     "output_type": "stream",
     "text": [
      "Enter value of r4\n",
      "Enter value of pi3.14\n",
      "50.24\n"
     ]
    }
   ],
   "source": [
    "# 4. WRITE A PYTHON PROGRAM WHICH ACCEPTS THE RADIUS OF A CIRCLE FROM TH USER AND COMPUTE THE AREA\n",
    "r = int(input(\"Enter value of r\"));\n",
    "pi = float(input(\"Enter value of pi\"));\n",
    "area_of_circle = pi * r**2;\n",
    "print(area_of_circle);\n"
   ]
  },
  {
   "cell_type": "code",
   "execution_count": 11,
   "id": "1c391682",
   "metadata": {},
   "outputs": [
    {
     "name": "stdout",
     "output_type": "stream",
     "text": [
      "Enter first nameHASAN\n",
      "Enter last nameFARHAN\n",
      "FARHAN HASAN\n"
     ]
    }
   ],
   "source": [
    "# 5.WRITE A PYTHON PROGRAM WHICH ACCEPTS THE USER'S FIRST AND LAST NAME AND PRINT THEM IN REVERSE ORDER WITH A SPACE BETWEEN THEM\n",
    "\n",
    "first_name = input(\"Enter first name\");\n",
    "last_name = input(\"Enter last name\");\n",
    "full_name = (last_name+ \" \"+ first_name);\n",
    "print(full_name);\n"
   ]
  },
  {
   "cell_type": "code",
   "execution_count": 12,
   "id": "c4ce2c23",
   "metadata": {},
   "outputs": [
    {
     "name": "stdout",
     "output_type": "stream",
     "text": [
      "enter value of a12\n",
      "enter value of b15\n",
      "27\n"
     ]
    }
   ],
   "source": [
    "# 6. WRITE A PYTHON PROGRAM WHICH TAKES TWO INPUTS FROM USER AND PRINT THEM ADDITION.\n",
    "a = int(input(\"enter value of a\"));\n",
    "b = int(input(\"enter value of b\"));\n",
    "c = int(a) + int(b);\n",
    "print(c);"
   ]
  },
  {
   "cell_type": "code",
   "execution_count": 22,
   "id": "07f0a04e",
   "metadata": {},
   "outputs": [
    {
     "name": "stdout",
     "output_type": "stream",
     "text": [
      "marks of english50\n",
      "marks of maths60\n",
      "marks of urdu70\n",
      "marks of science80\n",
      "marks of islamiat90\n",
      "70.0\n"
     ]
    }
   ],
   "source": [
    "# 7. WRITE A PROGRAM WHICH TAKE 5 IN PUTS FROM USER TO DIFFRENT SUBJECT'S MARKS,TOTAL IT AND GENERATE MARK SHEET USING GRADES ?\n",
    "english = int(input(\"marks of english\"));\n",
    "maths = int(input(\"marks of maths\"));\n",
    "urdu = int(input(\"marks of urdu\"));\n",
    "science = int(input(\"marks of science\"));\n",
    "islamiat = int(input(\"marks of islamiat\"));\n",
    "totalmarks = 500\n",
    "percentage = (english + maths + urdu + science + islamiat)/totalmarks*100\n",
    "\n",
    "print(percentage);\n",
    "\n"
   ]
  },
  {
   "cell_type": "code",
   "execution_count": 24,
   "id": "12ff4500",
   "metadata": {},
   "outputs": [
    {
     "name": "stdout",
     "output_type": "stream",
     "text": [
      "enter number34\n",
      "even\n"
     ]
    }
   ],
   "source": [
    "# 8 WRITE A PROGRAM WHICH TAKE INPUT FROM USER AND IDENTIFYTHAT THE GIVEN NUMBER IS EVEN OR ODD ?\n",
    "a = int(input(\"enter number\"))\n",
    "b = a % 2\n",
    "if (b == 0):\n",
    "    print(\"even\");\n",
    "else:\n",
    "    print(\"odd\");\n"
   ]
  },
  {
   "cell_type": "code",
   "execution_count": 25,
   "id": "8a03e25d",
   "metadata": {},
   "outputs": [
    {
     "name": "stdout",
     "output_type": "stream",
     "text": [
      "5\n"
     ]
    }
   ],
   "source": [
    "# 9. WRITE A PROGRAM WHICH PRINT THE LENGHT OF THE LIST ? arr = [1,2,\"apple\",\"flower\",\"hasan\"]\n",
    "\n",
    "arr = [1,2,\"apple\",\"flower\",\"hasan\"]\n",
    "print(len(arr));"
   ]
  },
  {
   "cell_type": "code",
   "execution_count": 40,
   "id": "16bd50c7",
   "metadata": {},
   "outputs": [
    {
     "name": "stdout",
     "output_type": "stream",
     "text": [
      "the sum is 21\n"
     ]
    }
   ],
   "source": [
    "# 10.WRITE A PYTHON PROGRAM TO SUM ALL THE NUMERIC ITEMS IN A LIST ?list1 = [1,2,3,4,5,6]\n",
    "\n",
    "sum = 0\n",
    "for i in list1:\n",
    "    sum = sum+i\n",
    "print(\"the sum is\", sum)\n",
    "\n",
    "\n",
    "\n",
    "\n"
   ]
  },
  {
   "cell_type": "code",
   "execution_count": 32,
   "id": "86c299c3",
   "metadata": {},
   "outputs": [
    {
     "name": "stdout",
     "output_type": "stream",
     "text": [
      "76\n"
     ]
    }
   ],
   "source": [
    "# 11.WRITE A PYTON PROGRAM TO GET THE LARGEST NUMBER FROM A NUMERIC LIST.\n",
    "\n",
    "arr = [23,43,67,12,76,45]\n",
    "print(max(arr));\n"
   ]
  },
  {
   "cell_type": "code",
   "execution_count": 34,
   "id": "d917d3ed",
   "metadata": {},
   "outputs": [
    {
     "name": "stdout",
     "output_type": "stream",
     "text": [
      "1\n",
      "1\n",
      "2\n",
      "3\n"
     ]
    }
   ],
   "source": [
    "# 12. WRITE A PROGRAM THAT PRINTS OUT ALL THE ELEMENT OF THE LIST THAT ARE LESS THAN 5.\n",
    "\n",
    "a = [1,1,2,3,5,8,13,21,34,55,89]\n",
    "for i in a:\n",
    "    if i < 5:\n",
    "        print(i);\n",
    "\n",
    "    "
   ]
  },
  {
   "cell_type": "code",
   "execution_count": null,
   "id": "3005dc2d",
   "metadata": {},
   "outputs": [],
   "source": []
  }
 ],
 "metadata": {
  "kernelspec": {
   "display_name": "Python 3",
   "language": "python",
   "name": "python3"
  },
  "language_info": {
   "codemirror_mode": {
    "name": "ipython",
    "version": 3
   },
   "file_extension": ".py",
   "mimetype": "text/x-python",
   "name": "python",
   "nbconvert_exporter": "python",
   "pygments_lexer": "ipython3",
   "version": "3.8.8"
  }
 },
 "nbformat": 4,
 "nbformat_minor": 5
}
