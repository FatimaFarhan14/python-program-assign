{
 "cells": [
  {
   "cell_type": "code",
   "execution_count": 14,
   "id": "a5d432a7",
   "metadata": {},
   "outputs": [
    {
     "name": "stdout",
     "output_type": "stream",
     "text": [
      "Hello FATIMA FARHAN\n"
     ]
    }
   ],
   "source": [
    "print(\"Hello FATIMA FARHAN\");"
   ]
  },
  {
   "cell_type": "code",
   "execution_count": null,
   "id": "080d4a29",
   "metadata": {},
   "outputs": [],
   "source": []
  }
 ],
 "metadata": {
  "kernelspec": {
   "display_name": "Python 3",
   "language": "python",
   "name": "python3"
  },
  "language_info": {
   "codemirror_mode": {
    "name": "ipython",
    "version": 3
   },
   "file_extension": ".py",
   "mimetype": "text/x-python",
   "name": "python",
   "nbconvert_exporter": "python",
   "pygments_lexer": "ipython3",
   "version": "3.8.8"
  }
 },
 "nbformat": 4,
 "nbformat_minor": 5
}
